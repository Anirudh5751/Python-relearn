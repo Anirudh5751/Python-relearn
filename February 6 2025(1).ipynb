{
 "cells": [
  {
   "cell_type": "code",
   "execution_count": 11,
   "id": "34f56b3d-f5da-4d6f-9976-750920c1e062",
   "metadata": {},
   "outputs": [
    {
     "name": "stdin",
     "output_type": "stream",
     "text": [
      "Enter an operator (+ - * /):  pokemon\n",
      "Enter the first number:  233\n",
      "Enter the second number:  2423\n"
     ]
    },
    {
     "name": "stdout",
     "output_type": "stream",
     "text": [
      " pokemon Is not valid operator\n"
     ]
    }
   ],
   "source": [
    "#Python Basic Calculator\n",
    "operator = input(\"Enter an operator (+ - * /): \")\n",
    "num1 = float(input(\"Enter the first number: \"))\n",
    "num2 = float(input(\"Enter the second number: \"))\n",
    "\n",
    "if operator == \"+\":\n",
    "    result = num1 + num2\n",
    "    print(round(result, 3))\n",
    "elif operator == \"-\":\n",
    "    result = num1 - num2\n",
    "    print(round(result, 3))\n",
    "elif operator == \"*\":\n",
    "    result = num1 * num2\n",
    "    print(round(result, 3))\n",
    "elif operator == \"/\":\n",
    "    result = num1 / num2\n",
    "    print(round(result, 3))\n",
    "else:\n",
    "    print(f\" {operator} is not valid operator\")"
   ]
  },
  {
   "cell_type": "code",
   "execution_count": 15,
   "id": "5fd8c4b5-2a24-4463-ac78-3d05b2e92f42",
   "metadata": {},
   "outputs": [
    {
     "name": "stdin",
     "output_type": "stream",
     "text": [
      "Enter your weight:  180\n",
      "Kilograms for pounds? (K or L):  pizzas\n"
     ]
    },
    {
     "name": "stdout",
     "output_type": "stream",
     "text": [
      "pizzas is not valid\n"
     ]
    }
   ],
   "source": [
    "#Python Weight Converter\n",
    "weight = float(input(\"Enter your weight: \"))\n",
    "unit = input(\"Kilograms for pounds? (K or L): \")\n",
    "if unit == \"K\":\n",
    "    weight = weight * 2.205\n",
    "    unit = \"Lbs\"\n",
    "    print(f\"Your weight is: {round(weight, 1)} {unit}\")\n",
    "elif unit == \"L\":\n",
    "    weight = weight / 2.205\n",
    "    unit = \"Kgs\"\n",
    "    print(f\"Your weight is: {round(weight, 1)} {unit}\")\n",
    "else:\n",
    "    print(f\"{unit} is not valid\")"
   ]
  },
  {
   "cell_type": "code",
   "execution_count": 22,
   "id": "179dc819-d5da-4313-9e0f-abab46c3e726",
   "metadata": {},
   "outputs": [
    {
     "name": "stdin",
     "output_type": "stream",
     "text": [
      "Is this temperature in Celcius or Farenheit (C/F):  F\n",
      "Enter the temperature:  91.4\n"
     ]
    },
    {
     "name": "stdout",
     "output_type": "stream",
     "text": [
      "The temperature in Celcius is: 33.0°C\n"
     ]
    }
   ],
   "source": [
    "#Python Temperature Convertor\n",
    "unit = input(\"Is this temperature in Celcius or Farenheit (C/F): \")\n",
    "temp = float(input(\"Enter the temperature: \"))\n",
    "\n",
    "if unit == \"C\":\n",
    "    temp = round((9 * temp) / 5 + 32, 1)\n",
    "    print(f\"The temperature in farenheit is: {temp}°F\")\n",
    "elif unit == \"F\":\n",
    "    temp = round((temp - 32) * 5 / 9, 1)\n",
    "    print(f\"The temperature in Celcius is: {temp}°C\")\n",
    "else:\n",
    "    print(f\"{unit} is an invalid unit measurement\")\n",
    "             "
   ]
  },
  {
   "cell_type": "code",
   "execution_count": null,
   "id": "fb1ee775-f571-4441-88f0-440e93c34dc5",
   "metadata": {},
   "outputs": [],
   "source": [
    "#Logical Operators"
   ]
  },
  {
   "cell_type": "code",
   "execution_count": 32,
   "id": "2b31d37a-f459-4a31-a4b8-4a4f861c8f3a",
   "metadata": {},
   "outputs": [
    {
     "name": "stdout",
     "output_type": "stream",
     "text": [
      "The outdoor event is cancelled\n"
     ]
    }
   ],
   "source": [
    "temp = 24\n",
    "is_raining = True\n",
    "\n",
    "if temp > 35 or temp < 0 or is_raining:\n",
    "    print(\"The outdoor event is cancelled\")\n",
    "else:\n",
    "    print(\"The outdoor event is still scheduled\")"
   ]
  },
  {
   "cell_type": "code",
   "execution_count": 40,
   "id": "2743cb7f-3b3d-4abb-85ac-f46aa15ae61b",
   "metadata": {},
   "outputs": [
    {
     "name": "stdout",
     "output_type": "stream",
     "text": [
      "It is warm outside\n",
      "it is cloudy\n"
     ]
    }
   ],
   "source": [
    "temp = 20\n",
    "is_sunny = False\n",
    "\n",
    "if temp >= 28 and is_sunny:\n",
    "    print(\"It is hot outside\")\n",
    "    print(\"it is sunny\")\n",
    "elif temp <= 0 and is_sunny:\n",
    "    print(\"It is cold outside\")\n",
    "    print(\"it is sunny\")\n",
    "elif 28 > temp > 0 and is_sunny:\n",
    "    print(\"It is warm outside\")\n",
    "    print(\"it is sunny\")\n",
    "elif temp >= 28 and not is_sunny:\n",
    "    print(\"It is hot outside\")\n",
    "    print(\"it is cloudy\")\n",
    "elif temp <= 0 and not is_sunny:\n",
    "    print(\"It is cold outside\")\n",
    "    print(\"it is cloudy\")\n",
    "elif 28 > temp > 0 and not is_sunny:\n",
    "    print(\"It is warm outside\")\n",
    "    print(\"it is cloudy\")"
   ]
  },
  {
   "cell_type": "code",
   "execution_count": null,
   "id": "d1f786e2-6eab-4e9a-95d6-77b3ff3c6d24",
   "metadata": {},
   "outputs": [],
   "source": [
    "#Conditional Expressions"
   ]
  },
  {
   "cell_type": "code",
   "execution_count": null,
   "id": "b170055d-ca25-4806-8f3e-ec5d313f4630",
   "metadata": {},
   "outputs": [],
   "source": [
    "#Equation: X if condition else Y"
   ]
  },
  {
   "cell_type": "code",
   "execution_count": 42,
   "id": "52da3f34-c559-4b04-baf0-f8b8c624f997",
   "metadata": {},
   "outputs": [
    {
     "name": "stdout",
     "output_type": "stream",
     "text": [
      "Negative\n"
     ]
    }
   ],
   "source": [
    "num = -5\n",
    "print(\"Positive\" if num > 0 else \"Negative\")"
   ]
  },
  {
   "cell_type": "code",
   "execution_count": 45,
   "id": "e2e0a870-4ca6-4244-826d-bd6d9143dd36",
   "metadata": {},
   "outputs": [
    {
     "name": "stdout",
     "output_type": "stream",
     "text": [
      "Odd\n"
     ]
    }
   ],
   "source": [
    "num = 5\n",
    "result = (\"Even\" if num % 2 == 0 else \"Odd\")\n",
    "print(result)"
   ]
  },
  {
   "cell_type": "code",
   "execution_count": 48,
   "id": "82520f44-7880-4d0e-b4b8-6ee8897b5d13",
   "metadata": {},
   "outputs": [
    {
     "name": "stdout",
     "output_type": "stream",
     "text": [
      "6\n"
     ]
    }
   ],
   "source": [
    "a = 6\n",
    "b = 7\n",
    "max_num = a if a > b else b\n",
    "min_num = a if a < b else b\n",
    "print(min_num)"
   ]
  },
  {
   "cell_type": "code",
   "execution_count": 50,
   "id": "c663dc2a-b135-45a9-a814-616f3394c0c5",
   "metadata": {},
   "outputs": [
    {
     "name": "stdout",
     "output_type": "stream",
     "text": [
      "Child\n"
     ]
    }
   ],
   "source": [
    "age = 7\n",
    "status = \"Adult\" if age >= 18 else \"Child\"\n",
    "print(status)"
   ]
  },
  {
   "cell_type": "code",
   "execution_count": 52,
   "id": "87ba5332-a9ec-4642-89fe-c5f29c107c8a",
   "metadata": {},
   "outputs": [
    {
     "name": "stdout",
     "output_type": "stream",
     "text": [
      "Cold\n"
     ]
    }
   ],
   "source": [
    "temperature = 20\n",
    "weather = \"Hot\" if temperature > 20 else \"Cold\"\n",
    "print(weather)"
   ]
  },
  {
   "cell_type": "code",
   "execution_count": 54,
   "id": "885911d5-b037-40c0-b7c9-7f05bb3c318f",
   "metadata": {},
   "outputs": [
    {
     "name": "stdout",
     "output_type": "stream",
     "text": [
      "Limited Access\n"
     ]
    }
   ],
   "source": [
    "user_role = \"Guest\"\n",
    "access_level = \"Full Access\" if user_role == \"admin\" else \"Limited Access\"\n",
    "print(access_level)"
   ]
  },
  {
   "cell_type": "code",
   "execution_count": null,
   "id": "381ae7f3-45ed-4908-b629-3a2843db7f34",
   "metadata": {},
   "outputs": [],
   "source": [
    "#String Methods"
   ]
  },
  {
   "cell_type": "code",
   "execution_count": 55,
   "id": "d89df538-aa5e-464b-82df-303b093e69ea",
   "metadata": {},
   "outputs": [
    {
     "name": "stdin",
     "output_type": "stream",
     "text": [
      "Enter your full name:  Anirudh\n"
     ]
    },
    {
     "name": "stdout",
     "output_type": "stream",
     "text": [
      "7\n"
     ]
    }
   ],
   "source": [
    "name = input(\"Enter your full name: \")\n",
    "result = len(name)\n",
    "print(result)"
   ]
  },
  {
   "cell_type": "code",
   "execution_count": 58,
   "id": "5b579728-f979-42b3-ad9a-56eae2c4aca8",
   "metadata": {},
   "outputs": [
    {
     "name": "stdin",
     "output_type": "stream",
     "text": [
      "Enter your full name:  Anirudh\n"
     ]
    },
    {
     "name": "stdout",
     "output_type": "stream",
     "text": [
      "1\n"
     ]
    }
   ],
   "source": [
    "name = input(\"Enter your full name: \")\n",
    "result = name.find(\"n\")\n",
    "print(result)"
   ]
  },
  {
   "cell_type": "code",
   "execution_count": 61,
   "id": "2bba5ce2-5219-4f61-8de7-36755048697a",
   "metadata": {},
   "outputs": [
    {
     "name": "stdin",
     "output_type": "stream",
     "text": [
      "Enter your full name:  Anirudh\n"
     ]
    },
    {
     "name": "stdout",
     "output_type": "stream",
     "text": [
      "-1\n"
     ]
    }
   ],
   "source": [
    "name = input(\"Enter your full name: \")\n",
    "result = name.rfind(\"q\")\n",
    "print(result)"
   ]
  },
  {
   "cell_type": "code",
   "execution_count": 63,
   "id": "46a75eea-1716-4686-af77-e567e5dd1d73",
   "metadata": {},
   "outputs": [
    {
     "name": "stdin",
     "output_type": "stream",
     "text": [
      "Enter your full name:  anirudh\n"
     ]
    },
    {
     "name": "stdout",
     "output_type": "stream",
     "text": [
      "Anirudh\n"
     ]
    }
   ],
   "source": [
    "name = input(\"Enter your full name: \")\n",
    "name = name.capitalize()\n",
    "print(name)"
   ]
  },
  {
   "cell_type": "code",
   "execution_count": 64,
   "id": "99ae26f1-4f19-4a0b-8e4f-7d2bf37ea603",
   "metadata": {},
   "outputs": [
    {
     "name": "stdin",
     "output_type": "stream",
     "text": [
      "Enter your full name:  Anirudh\n"
     ]
    },
    {
     "name": "stdout",
     "output_type": "stream",
     "text": [
      "ANIRUDH\n"
     ]
    }
   ],
   "source": [
    "name = input(\"Enter your full name: \")\n",
    "name = name.upper()\n",
    "print(name)"
   ]
  },
  {
   "cell_type": "code",
   "execution_count": 65,
   "id": "5fd16a1a-d263-4c4c-a4c7-f544d0ea703b",
   "metadata": {},
   "outputs": [
    {
     "name": "stdin",
     "output_type": "stream",
     "text": [
      "Enter your full name:  ANIRUDH\n"
     ]
    },
    {
     "name": "stdout",
     "output_type": "stream",
     "text": [
      "anirudh\n"
     ]
    }
   ],
   "source": [
    "name = input(\"Enter your full name: \")\n",
    "name = name.lower()\n",
    "print(name)"
   ]
  },
  {
   "cell_type": "code",
   "execution_count": 67,
   "id": "3bd7aae5-efc3-432a-834e-eacfeefd20eb",
   "metadata": {},
   "outputs": [
    {
     "name": "stdin",
     "output_type": "stream",
     "text": [
      "Enter your full name:  57\n"
     ]
    },
    {
     "name": "stdout",
     "output_type": "stream",
     "text": [
      "True\n"
     ]
    }
   ],
   "source": [
    "name = input(\"Enter your full name: \")\n",
    "result = name.isdigit()\n",
    "print(result)"
   ]
  },
  {
   "cell_type": "code",
   "execution_count": 68,
   "id": "b4a65145-0f4b-4e96-959f-a2a5e12f2bc4",
   "metadata": {},
   "outputs": [
    {
     "name": "stdin",
     "output_type": "stream",
     "text": [
      "Enter your full name:  Anirudh\n"
     ]
    },
    {
     "name": "stdout",
     "output_type": "stream",
     "text": [
      "True\n"
     ]
    }
   ],
   "source": [
    "name = input(\"Enter your full name: \")\n",
    "result = name.isalpha()\n",
    "print(result)"
   ]
  },
  {
   "cell_type": "code",
   "execution_count": 69,
   "id": "5bb0ffb3-ee8f-4935-a911-2cf3fff60e8f",
   "metadata": {},
   "outputs": [
    {
     "name": "stdin",
     "output_type": "stream",
     "text": [
      "Enter your phone number #:  848-256-2224\n"
     ]
    },
    {
     "name": "stdout",
     "output_type": "stream",
     "text": [
      "2\n"
     ]
    }
   ],
   "source": [
    "phone_number = input(\"Enter your phone number #: \")\n",
    "result = phone_number.count(\"-\")\n",
    "print(result)"
   ]
  },
  {
   "cell_type": "code",
   "execution_count": 71,
   "id": "3706bb52-b887-494d-9491-c8abce6652c2",
   "metadata": {},
   "outputs": [
    {
     "name": "stdin",
     "output_type": "stream",
     "text": [
      "Enter your phone number #:  848-256-2224\n"
     ]
    },
    {
     "name": "stdout",
     "output_type": "stream",
     "text": [
      "8482562224\n"
     ]
    }
   ],
   "source": [
    "phone_number = input(\"Enter your phone number #: \")\n",
    "phone_number = phone_number.replace(\"-\", \"\")\n",
    "print(phone_number)"
   ]
  },
  {
   "cell_type": "code",
   "execution_count": 72,
   "id": "b1b7c904-9262-4cff-8284-2a04c899bed3",
   "metadata": {},
   "outputs": [
    {
     "name": "stdout",
     "output_type": "stream",
     "text": [
      "Help on class str in module builtins:\n",
      "\n",
      "class str(object)\n",
      " |  str(object='') -> str\n",
      " |  str(bytes_or_buffer[, encoding[, errors]]) -> str\n",
      " |  \n",
      " |  Create a new string object from the given object. If encoding or\n",
      " |  errors is specified, then the object must expose a data buffer\n",
      " |  that will be decoded using the given encoding and error handler.\n",
      " |  Otherwise, returns the result of object.__str__() (if defined)\n",
      " |  or repr(object).\n",
      " |  encoding defaults to sys.getdefaultencoding().\n",
      " |  errors defaults to 'strict'.\n",
      " |  \n",
      " |  Methods defined here:\n",
      " |  \n",
      " |  __add__(self, value, /)\n",
      " |      Return self+value.\n",
      " |  \n",
      " |  __contains__(self, key, /)\n",
      " |      Return key in self.\n",
      " |  \n",
      " |  __eq__(self, value, /)\n",
      " |      Return self==value.\n",
      " |  \n",
      " |  __format__(self, format_spec, /)\n",
      " |      Return a formatted version of the string as described by format_spec.\n",
      " |  \n",
      " |  __ge__(self, value, /)\n",
      " |      Return self>=value.\n",
      " |  \n",
      " |  __getattribute__(self, name, /)\n",
      " |      Return getattr(self, name).\n",
      " |  \n",
      " |  __getitem__(self, key, /)\n",
      " |      Return self[key].\n",
      " |  \n",
      " |  __getnewargs__(...)\n",
      " |  \n",
      " |  __gt__(self, value, /)\n",
      " |      Return self>value.\n",
      " |  \n",
      " |  __hash__(self, /)\n",
      " |      Return hash(self).\n",
      " |  \n",
      " |  __iter__(self, /)\n",
      " |      Implement iter(self).\n",
      " |  \n",
      " |  __le__(self, value, /)\n",
      " |      Return self<=value.\n",
      " |  \n",
      " |  __len__(self, /)\n",
      " |      Return len(self).\n",
      " |  \n",
      " |  __lt__(self, value, /)\n",
      " |      Return self<value.\n",
      " |  \n",
      " |  __mod__(self, value, /)\n",
      " |      Return self%value.\n",
      " |  \n",
      " |  __mul__(self, value, /)\n",
      " |      Return self*value.\n",
      " |  \n",
      " |  __ne__(self, value, /)\n",
      " |      Return self!=value.\n",
      " |  \n",
      " |  __repr__(self, /)\n",
      " |      Return repr(self).\n",
      " |  \n",
      " |  __rmod__(self, value, /)\n",
      " |      Return value%self.\n",
      " |  \n",
      " |  __rmul__(self, value, /)\n",
      " |      Return value*self.\n",
      " |  \n",
      " |  __sizeof__(self, /)\n",
      " |      Return the size of the string in memory, in bytes.\n",
      " |  \n",
      " |  __str__(self, /)\n",
      " |      Return str(self).\n",
      " |  \n",
      " |  capitalize(self, /)\n",
      " |      Return a capitalized version of the string.\n",
      " |      \n",
      " |      More specifically, make the first character have upper case and the rest lower\n",
      " |      case.\n",
      " |  \n",
      " |  casefold(self, /)\n",
      " |      Return a version of the string suitable for caseless comparisons.\n",
      " |  \n",
      " |  center(self, width, fillchar=' ', /)\n",
      " |      Return a centered string of length width.\n",
      " |      \n",
      " |      Padding is done using the specified fill character (default is a space).\n",
      " |  \n",
      " |  count(...)\n",
      " |      S.count(sub[, start[, end]]) -> int\n",
      " |      \n",
      " |      Return the number of non-overlapping occurrences of substring sub in\n",
      " |      string S[start:end].  Optional arguments start and end are\n",
      " |      interpreted as in slice notation.\n",
      " |  \n",
      " |  encode(self, /, encoding='utf-8', errors='strict')\n",
      " |      Encode the string using the codec registered for encoding.\n",
      " |      \n",
      " |      encoding\n",
      " |        The encoding in which to encode the string.\n",
      " |      errors\n",
      " |        The error handling scheme to use for encoding errors.\n",
      " |        The default is 'strict' meaning that encoding errors raise a\n",
      " |        UnicodeEncodeError.  Other possible values are 'ignore', 'replace' and\n",
      " |        'xmlcharrefreplace' as well as any other name registered with\n",
      " |        codecs.register_error that can handle UnicodeEncodeErrors.\n",
      " |  \n",
      " |  endswith(...)\n",
      " |      S.endswith(suffix[, start[, end]]) -> bool\n",
      " |      \n",
      " |      Return True if S ends with the specified suffix, False otherwise.\n",
      " |      With optional start, test S beginning at that position.\n",
      " |      With optional end, stop comparing S at that position.\n",
      " |      suffix can also be a tuple of strings to try.\n",
      " |  \n",
      " |  expandtabs(self, /, tabsize=8)\n",
      " |      Return a copy where all tab characters are expanded using spaces.\n",
      " |      \n",
      " |      If tabsize is not given, a tab size of 8 characters is assumed.\n",
      " |  \n",
      " |  find(...)\n",
      " |      S.find(sub[, start[, end]]) -> int\n",
      " |      \n",
      " |      Return the lowest index in S where substring sub is found,\n",
      " |      such that sub is contained within S[start:end].  Optional\n",
      " |      arguments start and end are interpreted as in slice notation.\n",
      " |      \n",
      " |      Return -1 on failure.\n",
      " |  \n",
      " |  format(...)\n",
      " |      S.format(*args, **kwargs) -> str\n",
      " |      \n",
      " |      Return a formatted version of S, using substitutions from args and kwargs.\n",
      " |      The substitutions are identified by braces ('{' and '}').\n",
      " |  \n",
      " |  format_map(...)\n",
      " |      S.format_map(mapping) -> str\n",
      " |      \n",
      " |      Return a formatted version of S, using substitutions from mapping.\n",
      " |      The substitutions are identified by braces ('{' and '}').\n",
      " |  \n",
      " |  index(...)\n",
      " |      S.index(sub[, start[, end]]) -> int\n",
      " |      \n",
      " |      Return the lowest index in S where substring sub is found,\n",
      " |      such that sub is contained within S[start:end].  Optional\n",
      " |      arguments start and end are interpreted as in slice notation.\n",
      " |      \n",
      " |      Raises ValueError when the substring is not found.\n",
      " |  \n",
      " |  isalnum(self, /)\n",
      " |      Return True if the string is an alpha-numeric string, False otherwise.\n",
      " |      \n",
      " |      A string is alpha-numeric if all characters in the string are alpha-numeric and\n",
      " |      there is at least one character in the string.\n",
      " |  \n",
      " |  isalpha(self, /)\n",
      " |      Return True if the string is an alphabetic string, False otherwise.\n",
      " |      \n",
      " |      A string is alphabetic if all characters in the string are alphabetic and there\n",
      " |      is at least one character in the string.\n",
      " |  \n",
      " |  isascii(self, /)\n",
      " |      Return True if all characters in the string are ASCII, False otherwise.\n",
      " |      \n",
      " |      ASCII characters have code points in the range U+0000-U+007F.\n",
      " |      Empty string is ASCII too.\n",
      " |  \n",
      " |  isdecimal(self, /)\n",
      " |      Return True if the string is a decimal string, False otherwise.\n",
      " |      \n",
      " |      A string is a decimal string if all characters in the string are decimal and\n",
      " |      there is at least one character in the string.\n",
      " |  \n",
      " |  isdigit(self, /)\n",
      " |      Return True if the string is a digit string, False otherwise.\n",
      " |      \n",
      " |      A string is a digit string if all characters in the string are digits and there\n",
      " |      is at least one character in the string.\n",
      " |  \n",
      " |  isidentifier(self, /)\n",
      " |      Return True if the string is a valid Python identifier, False otherwise.\n",
      " |      \n",
      " |      Call keyword.iskeyword(s) to test whether string s is a reserved identifier,\n",
      " |      such as \"def\" or \"class\".\n",
      " |  \n",
      " |  islower(self, /)\n",
      " |      Return True if the string is a lowercase string, False otherwise.\n",
      " |      \n",
      " |      A string is lowercase if all cased characters in the string are lowercase and\n",
      " |      there is at least one cased character in the string.\n",
      " |  \n",
      " |  isnumeric(self, /)\n",
      " |      Return True if the string is a numeric string, False otherwise.\n",
      " |      \n",
      " |      A string is numeric if all characters in the string are numeric and there is at\n",
      " |      least one character in the string.\n",
      " |  \n",
      " |  isprintable(self, /)\n",
      " |      Return True if the string is printable, False otherwise.\n",
      " |      \n",
      " |      A string is printable if all of its characters are considered printable in\n",
      " |      repr() or if it is empty.\n",
      " |  \n",
      " |  isspace(self, /)\n",
      " |      Return True if the string is a whitespace string, False otherwise.\n",
      " |      \n",
      " |      A string is whitespace if all characters in the string are whitespace and there\n",
      " |      is at least one character in the string.\n",
      " |  \n",
      " |  istitle(self, /)\n",
      " |      Return True if the string is a title-cased string, False otherwise.\n",
      " |      \n",
      " |      In a title-cased string, upper- and title-case characters may only\n",
      " |      follow uncased characters and lowercase characters only cased ones.\n",
      " |  \n",
      " |  isupper(self, /)\n",
      " |      Return True if the string is an uppercase string, False otherwise.\n",
      " |      \n",
      " |      A string is uppercase if all cased characters in the string are uppercase and\n",
      " |      there is at least one cased character in the string.\n",
      " |  \n",
      " |  join(self, iterable, /)\n",
      " |      Concatenate any number of strings.\n",
      " |      \n",
      " |      The string whose method is called is inserted in between each given string.\n",
      " |      The result is returned as a new string.\n",
      " |      \n",
      " |      Example: '.'.join(['ab', 'pq', 'rs']) -> 'ab.pq.rs'\n",
      " |  \n",
      " |  ljust(self, width, fillchar=' ', /)\n",
      " |      Return a left-justified string of length width.\n",
      " |      \n",
      " |      Padding is done using the specified fill character (default is a space).\n",
      " |  \n",
      " |  lower(self, /)\n",
      " |      Return a copy of the string converted to lowercase.\n",
      " |  \n",
      " |  lstrip(self, chars=None, /)\n",
      " |      Return a copy of the string with leading whitespace removed.\n",
      " |      \n",
      " |      If chars is given and not None, remove characters in chars instead.\n",
      " |  \n",
      " |  partition(self, sep, /)\n",
      " |      Partition the string into three parts using the given separator.\n",
      " |      \n",
      " |      This will search for the separator in the string.  If the separator is found,\n",
      " |      returns a 3-tuple containing the part before the separator, the separator\n",
      " |      itself, and the part after it.\n",
      " |      \n",
      " |      If the separator is not found, returns a 3-tuple containing the original string\n",
      " |      and two empty strings.\n",
      " |  \n",
      " |  removeprefix(self, prefix, /)\n",
      " |      Return a str with the given prefix string removed if present.\n",
      " |      \n",
      " |      If the string starts with the prefix string, return string[len(prefix):].\n",
      " |      Otherwise, return a copy of the original string.\n",
      " |  \n",
      " |  removesuffix(self, suffix, /)\n",
      " |      Return a str with the given suffix string removed if present.\n",
      " |      \n",
      " |      If the string ends with the suffix string and that suffix is not empty,\n",
      " |      return string[:-len(suffix)]. Otherwise, return a copy of the original\n",
      " |      string.\n",
      " |  \n",
      " |  replace(self, old, new, count=-1, /)\n",
      " |      Return a copy with all occurrences of substring old replaced by new.\n",
      " |      \n",
      " |        count\n",
      " |          Maximum number of occurrences to replace.\n",
      " |          -1 (the default value) means replace all occurrences.\n",
      " |      \n",
      " |      If the optional argument count is given, only the first count occurrences are\n",
      " |      replaced.\n",
      " |  \n",
      " |  rfind(...)\n",
      " |      S.rfind(sub[, start[, end]]) -> int\n",
      " |      \n",
      " |      Return the highest index in S where substring sub is found,\n",
      " |      such that sub is contained within S[start:end].  Optional\n",
      " |      arguments start and end are interpreted as in slice notation.\n",
      " |      \n",
      " |      Return -1 on failure.\n",
      " |  \n",
      " |  rindex(...)\n",
      " |      S.rindex(sub[, start[, end]]) -> int\n",
      " |      \n",
      " |      Return the highest index in S where substring sub is found,\n",
      " |      such that sub is contained within S[start:end].  Optional\n",
      " |      arguments start and end are interpreted as in slice notation.\n",
      " |      \n",
      " |      Raises ValueError when the substring is not found.\n",
      " |  \n",
      " |  rjust(self, width, fillchar=' ', /)\n",
      " |      Return a right-justified string of length width.\n",
      " |      \n",
      " |      Padding is done using the specified fill character (default is a space).\n",
      " |  \n",
      " |  rpartition(self, sep, /)\n",
      " |      Partition the string into three parts using the given separator.\n",
      " |      \n",
      " |      This will search for the separator in the string, starting at the end. If\n",
      " |      the separator is found, returns a 3-tuple containing the part before the\n",
      " |      separator, the separator itself, and the part after it.\n",
      " |      \n",
      " |      If the separator is not found, returns a 3-tuple containing two empty strings\n",
      " |      and the original string.\n",
      " |  \n",
      " |  rsplit(self, /, sep=None, maxsplit=-1)\n",
      " |      Return a list of the substrings in the string, using sep as the separator string.\n",
      " |      \n",
      " |        sep\n",
      " |          The separator used to split the string.\n",
      " |      \n",
      " |          When set to None (the default value), will split on any whitespace\n",
      " |          character (including \\\\n \\\\r \\\\t \\\\f and spaces) and will discard\n",
      " |          empty strings from the result.\n",
      " |        maxsplit\n",
      " |          Maximum number of splits (starting from the left).\n",
      " |          -1 (the default value) means no limit.\n",
      " |      \n",
      " |      Splitting starts at the end of the string and works to the front.\n",
      " |  \n",
      " |  rstrip(self, chars=None, /)\n",
      " |      Return a copy of the string with trailing whitespace removed.\n",
      " |      \n",
      " |      If chars is given and not None, remove characters in chars instead.\n",
      " |  \n",
      " |  split(self, /, sep=None, maxsplit=-1)\n",
      " |      Return a list of the substrings in the string, using sep as the separator string.\n",
      " |      \n",
      " |        sep\n",
      " |          The separator used to split the string.\n",
      " |      \n",
      " |          When set to None (the default value), will split on any whitespace\n",
      " |          character (including \\\\n \\\\r \\\\t \\\\f and spaces) and will discard\n",
      " |          empty strings from the result.\n",
      " |        maxsplit\n",
      " |          Maximum number of splits (starting from the left).\n",
      " |          -1 (the default value) means no limit.\n",
      " |      \n",
      " |      Note, str.split() is mainly useful for data that has been intentionally\n",
      " |      delimited.  With natural text that includes punctuation, consider using\n",
      " |      the regular expression module.\n",
      " |  \n",
      " |  splitlines(self, /, keepends=False)\n",
      " |      Return a list of the lines in the string, breaking at line boundaries.\n",
      " |      \n",
      " |      Line breaks are not included in the resulting list unless keepends is given and\n",
      " |      true.\n",
      " |  \n",
      " |  startswith(...)\n",
      " |      S.startswith(prefix[, start[, end]]) -> bool\n",
      " |      \n",
      " |      Return True if S starts with the specified prefix, False otherwise.\n",
      " |      With optional start, test S beginning at that position.\n",
      " |      With optional end, stop comparing S at that position.\n",
      " |      prefix can also be a tuple of strings to try.\n",
      " |  \n",
      " |  strip(self, chars=None, /)\n",
      " |      Return a copy of the string with leading and trailing whitespace removed.\n",
      " |      \n",
      " |      If chars is given and not None, remove characters in chars instead.\n",
      " |  \n",
      " |  swapcase(self, /)\n",
      " |      Convert uppercase characters to lowercase and lowercase characters to uppercase.\n",
      " |  \n",
      " |  title(self, /)\n",
      " |      Return a version of the string where each word is titlecased.\n",
      " |      \n",
      " |      More specifically, words start with uppercased characters and all remaining\n",
      " |      cased characters have lower case.\n",
      " |  \n",
      " |  translate(self, table, /)\n",
      " |      Replace each character in the string using the given translation table.\n",
      " |      \n",
      " |        table\n",
      " |          Translation table, which must be a mapping of Unicode ordinals to\n",
      " |          Unicode ordinals, strings, or None.\n",
      " |      \n",
      " |      The table must implement lookup/indexing via __getitem__, for instance a\n",
      " |      dictionary or list.  If this operation raises LookupError, the character is\n",
      " |      left untouched.  Characters mapped to None are deleted.\n",
      " |  \n",
      " |  upper(self, /)\n",
      " |      Return a copy of the string converted to uppercase.\n",
      " |  \n",
      " |  zfill(self, width, /)\n",
      " |      Pad a numeric string with zeros on the left, to fill a field of the given width.\n",
      " |      \n",
      " |      The string is never truncated.\n",
      " |  \n",
      " |  ----------------------------------------------------------------------\n",
      " |  Static methods defined here:\n",
      " |  \n",
      " |  __new__(*args, **kwargs) from builtins.type\n",
      " |      Create and return a new object.  See help(type) for accurate signature.\n",
      " |  \n",
      " |  maketrans(...)\n",
      " |      Return a translation table usable for str.translate().\n",
      " |      \n",
      " |      If there is only one argument, it must be a dictionary mapping Unicode\n",
      " |      ordinals (integers) or characters to Unicode ordinals, strings or None.\n",
      " |      Character keys will be then converted to ordinals.\n",
      " |      If there are two arguments, they must be strings of equal length, and\n",
      " |      in the resulting dictionary, each character in x will be mapped to the\n",
      " |      character at the same position in y. If there is a third argument, it\n",
      " |      must be a string, whose characters will be mapped to None in the result.\n",
      "\n",
      "None\n"
     ]
    }
   ],
   "source": [
    "print(help(str))"
   ]
  },
  {
   "cell_type": "code",
   "execution_count": 78,
   "id": "cb6b4ca8-c995-40d0-994a-75ceb88a4031",
   "metadata": {},
   "outputs": [
    {
     "name": "stdin",
     "output_type": "stream",
     "text": [
      "Enter a username DreamZ\n"
     ]
    },
    {
     "name": "stdout",
     "output_type": "stream",
     "text": [
      "Welcome DreamZ\n"
     ]
    }
   ],
   "source": [
    "#Validate Input Exercise\n",
    "#1. Username No longer than 12 characters\n",
    "#2. Username has no spaces\n",
    "#3. Username contains no digits\n",
    "\n",
    "username = input(\"Enter a username\")\n",
    "\n",
    "if len(username) > 12:\n",
    "    print(\"Your username cannot be more than 12 characters\")\n",
    "elif not username.find(\" \") == -1:\n",
    "    print(\"Your username cannot contain spaces\")\n",
    "elif not username.isalpha(): \n",
    "    print(\"Your username cannot contain numbers\")\n",
    "else:\n",
    "    print(f\"Welcome {username}\")"
   ]
  },
  {
   "cell_type": "code",
   "execution_count": null,
   "id": "6b99119f-fc07-4108-aab9-2e08c02bf62b",
   "metadata": {},
   "outputs": [],
   "source": [
    "#String Indexing"
   ]
  },
  {
   "cell_type": "code",
   "execution_count": 81,
   "id": "fe61d3bb-9048-4500-92ab-821602c2ff04",
   "metadata": {},
   "outputs": [
    {
     "name": "stdout",
     "output_type": "stream",
     "text": [
      "-\n"
     ]
    }
   ],
   "source": [
    "credit_number = \"1234-5678-3745\"\n",
    "print(credit_number[0])"
   ]
  },
  {
   "cell_type": "code",
   "execution_count": 86,
   "id": "9c2ae4b2-e670-4d9f-821e-44938381b985",
   "metadata": {},
   "outputs": [
    {
     "name": "stdout",
     "output_type": "stream",
     "text": [
      "1234\n"
     ]
    }
   ],
   "source": [
    "credit_number = \"1234-5678-3745\"\n",
    "print(credit_number[:4])"
   ]
  },
  {
   "cell_type": "code",
   "execution_count": 87,
   "id": "9ea984ec-0738-4ec2-b9c3-e2dbc899e7ee",
   "metadata": {},
   "outputs": [
    {
     "data": {
      "text/plain": [
       "'5678'"
      ]
     },
     "execution_count": 87,
     "metadata": {},
     "output_type": "execute_result"
    }
   ],
   "source": [
    "credit_number = \"1234-5678-3745\"\n",
    "credit_number[5:9]"
   ]
  },
  {
   "cell_type": "code",
   "execution_count": 88,
   "id": "8bc67b93-d8be-4559-b542-40c27a7a4cec",
   "metadata": {},
   "outputs": [
    {
     "data": {
      "text/plain": [
       "'5678-3745'"
      ]
     },
     "execution_count": 88,
     "metadata": {},
     "output_type": "execute_result"
    }
   ],
   "source": [
    "credit_number = \"1234-5678-3745\"\n",
    "credit_number[5:]"
   ]
  },
  {
   "cell_type": "code",
   "execution_count": 90,
   "id": "1ed0fc06-bc39-410a-8c53-57ee0864d111",
   "metadata": {},
   "outputs": [
    {
     "data": {
      "text/plain": [
       "'4'"
      ]
     },
     "execution_count": 90,
     "metadata": {},
     "output_type": "execute_result"
    }
   ],
   "source": [
    "credit_number = \"1234-5678-3745\"\n",
    "credit_number[-2]"
   ]
  },
  {
   "cell_type": "code",
   "execution_count": 92,
   "id": "525e2274-a58c-47a2-95ae-381cdcdd55c7",
   "metadata": {},
   "outputs": [
    {
     "data": {
      "text/plain": [
       "'1-84'"
      ]
     },
     "execution_count": 92,
     "metadata": {},
     "output_type": "execute_result"
    }
   ],
   "source": [
    "credit_number = \"1234-5678-3745\"\n",
    "credit_number[::4]"
   ]
  },
  {
   "cell_type": "code",
   "execution_count": 93,
   "id": "5e04fd14-a0bb-4a2d-8cd0-77cf29f59aa5",
   "metadata": {},
   "outputs": [
    {
     "name": "stdout",
     "output_type": "stream",
     "text": [
      "XXXX-XXXX-3745\n"
     ]
    }
   ],
   "source": [
    "credit_number = \"1234-5678-3745\"\n",
    "last_digits = credit_number[-4:]\n",
    "print(f\"XXXX-XXXX-{last_digits}\")"
   ]
  },
  {
   "cell_type": "code",
   "execution_count": 94,
   "id": "2b3ce4ae-654f-4858-9a79-4988a9296b7c",
   "metadata": {},
   "outputs": [
    {
     "name": "stdout",
     "output_type": "stream",
     "text": [
      "5473-8765-4321\n"
     ]
    }
   ],
   "source": [
    "credit_number = \"1234-5678-3745\"\n",
    "credit_number = credit_number[::-1]\n",
    "print(credit_number)"
   ]
  },
  {
   "cell_type": "code",
   "execution_count": null,
   "id": "91ea1514-15b1-427b-9567-a42730aaa6ad",
   "metadata": {},
   "outputs": [],
   "source": [
    "#Format Specifiers"
   ]
  },
  {
   "cell_type": "code",
   "execution_count": 106,
   "id": "efcd94d4-d8ec-4a11-8807-7103f69b4f59",
   "metadata": {},
   "outputs": [
    {
     "name": "stdout",
     "output_type": "stream",
     "text": [
      " Price 1 is $+3,000.14\n",
      " Price 2 is $-9,870.75\n",
      " Price 3 is $+1,200.34\n"
     ]
    }
   ],
   "source": [
    "price1 = 3000.14159\n",
    "price2 = -9870.75\n",
    "price3 = 1200.34\n",
    "\n",
    "print(f\" Price 1 is ${price1:+,.2f}\")\n",
    "print(f\" Price 2 is ${price2:+,.2f}\")\n",
    "print(f\" Price 3 is ${price3:+,.2f}\")"
   ]
  },
  {
   "cell_type": "code",
   "execution_count": null,
   "id": "5a789244-6600-4b0a-b5d5-4e846c7a5c12",
   "metadata": {},
   "outputs": [],
   "source": [
    "#While Loops"
   ]
  },
  {
   "cell_type": "code",
   "execution_count": 112,
   "id": "1f230b8a-a875-4ce4-980f-d94178112245",
   "metadata": {},
   "outputs": [
    {
     "name": "stdin",
     "output_type": "stream",
     "text": [
      "Enter your name Anirudh\n"
     ]
    },
    {
     "name": "stdout",
     "output_type": "stream",
     "text": [
      "Hello Anirudh\n"
     ]
    }
   ],
   "source": [
    "name = input(\"Enter your name\")\n",
    "while name == \"\":\n",
    "    print(\"You didnt enter your name\")\n",
    "    name = input(\"Enter your name\")\n",
    "print(f\"Hello {name}\")"
   ]
  },
  {
   "cell_type": "code",
   "execution_count": null,
   "id": "aa5c98f1-2f57-422c-96b1-698cbc6411e0",
   "metadata": {},
   "outputs": [],
   "source": [
    "age = int(input(\"Enter your age: \"))\n",
    "while age < 0:\n",
    "    print(\"Age cannot be negative\")\n",
    "    age = int(input(\"Enter your age: \"))\n",
    "print(f\"You are {age} years old\")"
   ]
  }
 ],
 "metadata": {
  "kernelspec": {
   "display_name": "Python 3 (ipykernel)",
   "language": "python",
   "name": "python3"
  },
  "language_info": {
   "codemirror_mode": {
    "name": "ipython",
    "version": 3
   },
   "file_extension": ".py",
   "mimetype": "text/x-python",
   "name": "python",
   "nbconvert_exporter": "python",
   "pygments_lexer": "ipython3",
   "version": "3.10.13"
  }
 },
 "nbformat": 4,
 "nbformat_minor": 5
}
