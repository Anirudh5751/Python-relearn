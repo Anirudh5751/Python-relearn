{
 "cells": [
  {
   "cell_type": "code",
   "execution_count": 15,
   "id": "c11aa919-b8ea-4a01-b64d-923130570ed5",
   "metadata": {},
   "outputs": [
    {
     "name": "stdout",
     "output_type": "stream",
     "text": [
      "I like Pizza\n",
      "Its tastes very good\n"
     ]
    }
   ],
   "source": [
    "print(\"I like Pizza\")\n",
    "print(\"Its tastes very good\")"
   ]
  },
  {
   "cell_type": "code",
   "execution_count": 3,
   "id": "f203fabe-df75-4252-8a83-1c547ac6e934",
   "metadata": {},
   "outputs": [],
   "source": [
    "#This is a comment"
   ]
  },
  {
   "cell_type": "code",
   "execution_count": 16,
   "id": "76c675a8-4b5c-4e6e-9e1d-800f6bf8e968",
   "metadata": {},
   "outputs": [
    {
     "name": "stdout",
     "output_type": "stream",
     "text": [
      "Anirudh\n",
      "Hello Anirudh\n",
      "You Like Pizza\n",
      "Your email is @anirudh.bhamidipatii22@gmail.com\n"
     ]
    }
   ],
   "source": [
    "first_name = \"Anirudh\"\n",
    "food = \"Pizza\"\n",
    "email = \"@anirudh.bhamidipatii22@gmail.com\"\n",
    "print(first_name)\n",
    "#this is an F string\n",
    "print(f\"Hello {first_name}\")\n",
    "print(f\"You Like {food}\")\n",
    "print(f\"Your email is {email}\")"
   ]
  },
  {
   "cell_type": "code",
   "execution_count": 10,
   "id": "4e5938d7-758c-4906-92e9-fed6a6defe3c",
   "metadata": {},
   "outputs": [],
   "source": [
    "#Everything above is an example of a string"
   ]
  },
  {
   "cell_type": "code",
   "execution_count": 13,
   "id": "e32f01d9-93fe-4c70-a2cb-174b3fec4f84",
   "metadata": {},
   "outputs": [
    {
     "name": "stdout",
     "output_type": "stream",
     "text": [
      "You are 20 years old\n",
      "You are buying 7 items\n",
      "The math class I am in has 25 students\n"
     ]
    }
   ],
   "source": [
    "#Integer\n",
    "age = 20\n",
    "quantity = 7\n",
    "num_of_students = 25\n",
    "print(f\"You are {age} years old\")\n",
    "print(f\"You are buying {quantity} items\")\n",
    "print(f\"The math class I am in has {num_of_students} students\")"
   ]
  },
  {
   "cell_type": "code",
   "execution_count": 19,
   "id": "6f08fb81-ae2a-4299-b048-2f557f71bf66",
   "metadata": {},
   "outputs": [
    {
     "name": "stdout",
     "output_type": "stream",
     "text": [
      "The price of this item is $25.99\n",
      "Your GPA is 3.2\n",
      "You ran 5.5 kilometers\n"
     ]
    }
   ],
   "source": [
    "#Float\n",
    "price = 25.99\n",
    "gpa = \"3.2\"\n",
    "distance = \"5.5\"\n",
    "print(f\"The price of this item is ${price}\")\n",
    "print(f\"Your GPA is {gpa}\")\n",
    "print(f\"You ran {distance} kilometers\")"
   ]
  },
  {
   "cell_type": "code",
   "execution_count": 28,
   "id": "51190060-427f-4f69-b40f-c55919751bd5",
   "metadata": {},
   "outputs": [
    {
     "name": "stdout",
     "output_type": "stream",
     "text": [
      "Are you a student?: True\n",
      "You are a student\n",
      "That item is NOT available\n",
      "This person is currently offline\n"
     ]
    }
   ],
   "source": [
    "#Boolean\n",
    "is_student = True\n",
    "for_sale = False\n",
    "is_online = False\n",
    "print(f\"Are you a student?: {is_student}\")\n",
    "\n",
    "if is_student:\n",
    "    print(\"You are a student\")\n",
    "else:\n",
    "    print(\"You are NOT a student\")\n",
    "\n",
    "if for_sale:\n",
    "    print(\"That item is for sale\")\n",
    "else:\n",
    "    print(\"That item is NOT available\")\n",
    "\n",
    "if is_online:\n",
    "    print(\"This person is currently online\")\n",
    "else:\n",
    "    print(\"This person is currently offline\")"
   ]
  },
  {
   "cell_type": "code",
   "execution_count": 29,
   "id": "d38ccf3d-a810-4a2d-a044-5893002b8e34",
   "metadata": {},
   "outputs": [],
   "source": [
    "#These are all examples of Variables"
   ]
  },
  {
   "cell_type": "code",
   "execution_count": 58,
   "id": "8be0f3b8-76a7-4961-8937-39c99f8b7941",
   "metadata": {},
   "outputs": [
    {
     "name": "stdout",
     "output_type": "stream",
     "text": [
      "<class 'bool'>\n"
     ]
    }
   ],
   "source": [
    "name = \"Anirudh\"\n",
    "age = 21\n",
    "gpa = 3.2\n",
    "is_student = True\n",
    "\n",
    "print(type(is_student))"
   ]
  },
  {
   "cell_type": "code",
   "execution_count": 59,
   "id": "86460b48-dc9a-47c5-ad63-936dadd5bdaf",
   "metadata": {},
   "outputs": [
    {
     "name": "stdout",
     "output_type": "stream",
     "text": [
      "3\n"
     ]
    }
   ],
   "source": [
    "gpa = int(gpa)\n",
    "print(gpa)"
   ]
  },
  {
   "cell_type": "code",
   "execution_count": 60,
   "id": "969bf7c5-e190-42d4-a510-fd7238bdabd9",
   "metadata": {},
   "outputs": [
    {
     "name": "stdout",
     "output_type": "stream",
     "text": [
      "21.0\n"
     ]
    }
   ],
   "source": [
    "age = float(age)\n",
    "print(age)"
   ]
  },
  {
   "cell_type": "code",
   "execution_count": 61,
   "id": "fb455490-65d3-4873-9055-d8ff320f5479",
   "metadata": {},
   "outputs": [
    {
     "name": "stdout",
     "output_type": "stream",
     "text": [
      "21.01\n"
     ]
    }
   ],
   "source": [
    "age = str(age)\n",
    "age += \"1\"\n",
    "print(age)"
   ]
  },
  {
   "cell_type": "code",
   "execution_count": 62,
   "id": "c9e87074-861a-47fc-8152-a79f751ec819",
   "metadata": {},
   "outputs": [
    {
     "name": "stdout",
     "output_type": "stream",
     "text": [
      "True\n"
     ]
    }
   ],
   "source": [
    "name = bool(name)\n",
    "print(name)"
   ]
  },
  {
   "cell_type": "code",
   "execution_count": null,
   "id": "481b9d80-4052-4070-8057-b193223e0e4a",
   "metadata": {},
   "outputs": [],
   "source": [
    "#These are all examples of Typecasting"
   ]
  },
  {
   "cell_type": "code",
   "execution_count": 67,
   "id": "fbe0aa55-ebc6-487d-b44f-0d7a4b8e2142",
   "metadata": {},
   "outputs": [
    {
     "name": "stdin",
     "output_type": "stream",
     "text": [
      "What is your name:  Anirudh\n",
      "How old are you:  20\n"
     ]
    },
    {
     "name": "stdout",
     "output_type": "stream",
     "text": [
      "Hello Anirudh\n",
      "Happy Birthday\n",
      "You are 21 years old\n"
     ]
    }
   ],
   "source": [
    "name = input(\"What is your name: \")\n",
    "age = int(input(\"How old are you: \"))\n",
    "age = age + 1\n",
    "print(f\"Hello {name}\")\n",
    "print(\"Happy Birthday\")\n",
    "print(f\"You are {age} years old\")"
   ]
  },
  {
   "cell_type": "code",
   "execution_count": 68,
   "id": "af5422cb-7fa7-40f6-9964-51c068a84078",
   "metadata": {},
   "outputs": [
    {
     "name": "stdin",
     "output_type": "stream",
     "text": [
      "Enter the length:  5\n",
      "Enter the width:  73\n"
     ]
    },
    {
     "name": "stdout",
     "output_type": "stream",
     "text": [
      "365.0\n"
     ]
    }
   ],
   "source": [
    "#Exercise Rectangle Area Calculation\n",
    "length = float(input(\"Enter the length: \"))\n",
    "width = float(input(\"Enter the width: \"))\n",
    "area = length * width\n",
    "print(f\"The area is: {area}cm\")"
   ]
  },
  {
   "cell_type": "code",
   "execution_count": 73,
   "id": "3e391541-643e-487f-8523-3b42578fe6c4",
   "metadata": {},
   "outputs": [
    {
     "name": "stdin",
     "output_type": "stream",
     "text": [
      "What item would you like to buy:  Pokemon Cards\n",
      "What is the price:  26.99\n",
      "How many would you like:  3\n"
     ]
    },
    {
     "name": "stdout",
     "output_type": "stream",
     "text": [
      "You have bought 3 x Pokemon Cards/s\n",
      "Your total is $80.97\n"
     ]
    }
   ],
   "source": [
    "#Shopping Cart Program\n",
    "item = input(\"What item would you like to buy: \")\n",
    "price = float(input(\"What is the price: \"))\n",
    "quantity = int(input(\"How many would you like: \"))\n",
    "total = price * quantity\n",
    "print(f\"You have bought {quantity} x {item}/s\")\n",
    "print(f\"Your total is ${total}\")"
   ]
  }
 ],
 "metadata": {
  "kernelspec": {
   "display_name": "Python 3 (ipykernel)",
   "language": "python",
   "name": "python3"
  },
  "language_info": {
   "codemirror_mode": {
    "name": "ipython",
    "version": 3
   },
   "file_extension": ".py",
   "mimetype": "text/x-python",
   "name": "python",
   "nbconvert_exporter": "python",
   "pygments_lexer": "ipython3",
   "version": "3.10.13"
  }
 },
 "nbformat": 4,
 "nbformat_minor": 5
}
