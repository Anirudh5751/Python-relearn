{
 "cells": [
  {
   "cell_type": "code",
   "execution_count": null,
   "id": "74192065-1fc2-409a-9cd2-5b27b3790945",
   "metadata": {},
   "outputs": [],
   "source": [
    "#Madlibs Game"
   ]
  },
  {
   "cell_type": "code",
   "execution_count": 2,
   "id": "e94eda37-ea7a-473b-81c0-b1e8dd520c2f",
   "metadata": {},
   "outputs": [
    {
     "name": "stdin",
     "output_type": "stream",
     "text": [
      "Enter an adjective (description):  Screaming\n",
      "Enter an noun (Person, Place, Thing):  Krithik\n",
      "Enter an adjective (description):  strange\n",
      "Enter an verb ending with 'ing' screaming\n",
      "Enter an adjective (description):  colorful\n"
     ]
    },
    {
     "name": "stdout",
     "output_type": "stream",
     "text": [
      "Today I went to a Screaming Zoo.\n",
      "In an exhibit I saw a Krithik\n",
      "Krithik was strange and screaming\n",
      "I was colorful!\n"
     ]
    }
   ],
   "source": [
    "adjective1 = input(\"Enter an adjective (description): \")\n",
    "noun1 = input(\"Enter an noun (Person, Place, Thing): \")\n",
    "adjective2 = input(\"Enter an adjective (description): \")\n",
    "verb1 = input(\"Enter an verb ending with 'ing'\")\n",
    "adjective3 = input(\"Enter an adjective (description): \")\n",
    "print(f\"Today I went to a {adjective1} Zoo.\")\n",
    "print(f\"In an exhibit I saw a {noun1}\")\n",
    "print(f\"{noun1} was {adjective2} and {verb1}\")\n",
    "print(f\"I was {adjective3}!\")"
   ]
  },
  {
   "cell_type": "code",
   "execution_count": 10,
   "id": "3741bfe6-36d1-4528-a7ed-5cff01d6326f",
   "metadata": {},
   "outputs": [
    {
     "name": "stdout",
     "output_type": "stream",
     "text": [
      "1\n"
     ]
    }
   ],
   "source": [
    "friends = 7\n",
    "#friends = friends + 1\n",
    "#friends += 1\n",
    "#friends = friends - 2\n",
    "#friends -= 2\n",
    "#friends = friends * 3\n",
    "#friends *= 3\n",
    "#friends = friends / 2\n",
    "#friends /= 2\n",
    "#friends = friends ** 2\n",
    "#friends **= 2\n",
    "remainder = friends % 2\n",
    "print(remainder)"
   ]
  },
  {
   "cell_type": "code",
   "execution_count": 16,
   "id": "6c325c27-224d-4c36-96cf-ddc1025734f2",
   "metadata": {},
   "outputs": [
    {
     "name": "stdout",
     "output_type": "stream",
     "text": [
      "3.14\n"
     ]
    }
   ],
   "source": [
    "x = 3.14\n",
    "y = 4\n",
    "z = 5\n",
    "#result = round(x)\n",
    "#result = abs(y)\n",
    "#result = pow(4, 3)\n",
    "#result = max(x, y, z)\n",
    "result = min(x, y, z)\n",
    "print(result)"
   ]
  },
  {
   "cell_type": "code",
   "execution_count": 21,
   "id": "06ce6290-ce6c-411c-90c4-4275eee3cdef",
   "metadata": {},
   "outputs": [
    {
     "name": "stdout",
     "output_type": "stream",
     "text": [
      "9\n"
     ]
    }
   ],
   "source": [
    "import math\n",
    "x = 9.9\n",
    "#print(math.pi)\n",
    "#print(math.e)\n",
    "#result = math.sqrt(x)\n",
    "#result = math.ceil(x)\n",
    "result = math.floor(x)\n",
    "print(result)"
   ]
  },
  {
   "cell_type": "code",
   "execution_count": 24,
   "id": "4dd684d4-3aed-452d-9918-0632b4b92add",
   "metadata": {},
   "outputs": [
    {
     "name": "stdin",
     "output_type": "stream",
     "text": [
      "Enter the radius of a circle:  10.5\n"
     ]
    },
    {
     "name": "stdout",
     "output_type": "stream",
     "text": [
      "The circumfrence is: 66\n"
     ]
    }
   ],
   "source": [
    "#Calculate Circumfrence of Circle\n",
    "import math\n",
    "radius = float(input('Enter the radius of a circle: '))\n",
    "circumfrence = 2 * math.pi * radius\n",
    "print(f\"The circumfrence is: {round(circumfrence)}\")"
   ]
  },
  {
   "cell_type": "code",
   "execution_count": 26,
   "id": "b3276929-1153-42c2-a280-c1981333e83f",
   "metadata": {},
   "outputs": [
    {
     "name": "stdin",
     "output_type": "stream",
     "text": [
      "Enter the radius of a circle:  10.5\n"
     ]
    },
    {
     "name": "stdout",
     "output_type": "stream",
     "text": [
      "The area of the circle is: 346cm^2\n"
     ]
    }
   ],
   "source": [
    "#Calculate Area of Circle\n",
    "import math\n",
    "radius = float(input('Enter the radius of a circle: '))\n",
    "area = math.pi * pow(radius, 2)\n",
    "print(f\"The area of the circle is: {round(area)}cm^2\")"
   ]
  },
  {
   "cell_type": "code",
   "execution_count": 28,
   "id": "48ac8096-dcd0-422b-8d41-699a7a934f2e",
   "metadata": {},
   "outputs": [
    {
     "name": "stdin",
     "output_type": "stream",
     "text": [
      "Enter Side A:  4\n",
      "Enter Side B:  3\n"
     ]
    },
    {
     "name": "stdout",
     "output_type": "stream",
     "text": [
      "Side C equals 5.0\n"
     ]
    }
   ],
   "source": [
    "#Calculate Hypotenuse of Right Triangle\n",
    "import math\n",
    "a = float(input('Enter Side A: '))\n",
    "b = float(input('Enter Side B: '))\n",
    "c = math.sqrt(pow(a, 2) + pow(b, 2))\n",
    "print(f\"Side C equals {c}\")"
   ]
  },
  {
   "cell_type": "code",
   "execution_count": 33,
   "id": "faa68442-c1e6-44f4-a531-cf8779997e5c",
   "metadata": {},
   "outputs": [
    {
     "name": "stdin",
     "output_type": "stream",
     "text": [
      "Enter your age:  111\n"
     ]
    },
    {
     "name": "stdout",
     "output_type": "stream",
     "text": [
      "You are too old to sign up\n"
     ]
    }
   ],
   "source": [
    "age = int(input(\"Enter your age: \"))\n",
    "if age >=100:\n",
    "    print(\"You are too old to sign up\")\n",
    "elif age >= 18:\n",
    "    print(\"You are now signed up\")\n",
    "elif age <0:\n",
    "    print(\"You have not been born yet\")\n",
    "elif age >=100:\n",
    "    print(\"You are too old to sign up\")\n",
    "else:\n",
    "    print(\"You cannot sign up\")"
   ]
  },
  {
   "cell_type": "code",
   "execution_count": 35,
   "id": "4ef05242-6237-417b-9f5f-99dc07c4b6f6",
   "metadata": {},
   "outputs": [
    {
     "name": "stdin",
     "output_type": "stream",
     "text": [
      "Would you like food? (Y/N):  N\n"
     ]
    },
    {
     "name": "stdout",
     "output_type": "stream",
     "text": [
      "No food for you\n"
     ]
    }
   ],
   "source": [
    "response = input(\"Would you like food? (Y/N): \")\n",
    "if response == \"Y\":\n",
    "    print(\"You can have food\")\n",
    "else:\n",
    "    print(\"No food for you\")"
   ]
  },
  {
   "cell_type": "code",
   "execution_count": 37,
   "id": "1a1de3d9-f767-4777-ac96-ce4074c5d983",
   "metadata": {},
   "outputs": [
    {
     "name": "stdin",
     "output_type": "stream",
     "text": [
      "Enter your name Anirudh\n"
     ]
    },
    {
     "name": "stdout",
     "output_type": "stream",
     "text": [
      "Hello Anirudh!\n"
     ]
    }
   ],
   "source": [
    "name = input(\"Enter your name\")\n",
    "if name == \"\":\n",
    "    print(\"You did not type in your name\")\n",
    "else:\n",
    "    print(f\"Hello {name}!\")"
   ]
  },
  {
   "cell_type": "code",
   "execution_count": 41,
   "id": "afcf6b11-9b2d-48ca-9b22-ef67d0c9f9e9",
   "metadata": {},
   "outputs": [
    {
     "name": "stdout",
     "output_type": "stream",
     "text": [
      "This person is not online\n"
     ]
    }
   ],
   "source": [
    "online = False\n",
    "if online:\n",
    "    print(\"This person is online\")\n",
    "else:\n",
    "    print(\"This person is not online\")"
   ]
  }
 ],
 "metadata": {
  "kernelspec": {
   "display_name": "Python 3 (ipykernel)",
   "language": "python",
   "name": "python3"
  },
  "language_info": {
   "codemirror_mode": {
    "name": "ipython",
    "version": 3
   },
   "file_extension": ".py",
   "mimetype": "text/x-python",
   "name": "python",
   "nbconvert_exporter": "python",
   "pygments_lexer": "ipython3",
   "version": "3.10.13"
  }
 },
 "nbformat": 4,
 "nbformat_minor": 5
}
